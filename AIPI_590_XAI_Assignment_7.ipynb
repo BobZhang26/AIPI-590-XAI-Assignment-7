{
  "cells": [
    {
      "cell_type": "markdown",
      "metadata": {
        "id": "view-in-github",
        "colab_type": "text"
      },
      "source": [
        "<a href=\"https://colab.research.google.com/github/BobZhang26/AIPI-590-XAI-Assignment-7/blob/main/AIPI_590_XAI_Assignment_7.ipynb\" target=\"_parent\"><img src=\"https://colab.research.google.com/assets/colab-badge.svg\" alt=\"Open In Colab\"/></a>"
      ]
    },
    {
      "cell_type": "markdown",
      "metadata": {
        "id": "yQAXI1pq_Ajn"
      },
      "source": [
        "# AIPI 590 - XAI | Assignment #7\n",
        "### Instructions\n",
        "Develop a hypothesis and design a study using explainable deep learning methods to test your hypothesis. You can use any deep learning method discussed during the lecture: concept activation vectors, feature visualization, saliency maps, integrated gradients, or occlusion methods.\n",
        "\n",
        "Hypothesis must be in the form of a null/alternative hypothesis.\n",
        "\n",
        "\n",
        "\n",
        "Share your result as a visual report. This report can be in the form of a Google Colab, webpage, blog, or PDF and should contain the H0/H1 hypothesis, a brief explanation of the approach, the visualizations and/or explanations, and a summary of your findings. If Google Colab is not your medium of choice, please include source code as a link in your report.\n",
        "\n",
        "\n",
        "\n",
        "Note: You will NOT be graded on whether or not your null hypothesis was rejected, only on whether your experiments appropriately tested your hypothesis.\n",
        "\n",
        "Example hypothesis:\n",
        "\n",
        "H0: The GoogleNet model does not show a significant difference in its ability to learn the concept \"striped\" compared to the concept \"dotted\" for the class ‘zebra’.\n",
        "\n",
        "\n",
        "H1: The GoogleNet model shows a significant difference in its ability to learn the concept \"striped\" compared to the concept \"dotted\" for the class ‘zebra’, specifically, it learns the concept \"striped\" but not the concept \"dotted\".\n",
        "\n",
        "### Bob Zhang\n",
        "\n",
        "[![Open In Collab](https://colab.research.google.com/assets/colab-badge.svg)](https://colab.research.google.com/github/AIPI-590-XAI/Duke-AI-XAI/blob/dev/templates/template.ipynb)"
      ]
    },
    {
      "cell_type": "markdown",
      "metadata": {
        "id": "nUcv6Wg4_Ajp"
      },
      "source": [
        "## DO:\n",
        "* Use markdown and comments effectively\n",
        "* Pull out classes and functions into scripts\n",
        "* Ensure cells are executed in order and avoid skipping cells to maintain reproducibility\n",
        "* Choose the appropriate runtime (i.e. GPU) if needed\n",
        "* If you are using a dataset that is too large to put in your GitHub repository, you must either pull it in via Hugging Face Datasets or put it in an S3 bucket and use boto3 to pull from there.\n",
        "* Use versioning on all installs (ie pandas==1.3.0) to ensure consistency across versions\n",
        "* Implement error handling where appropriate\n",
        "\n",
        "## DON'T:\n",
        "* Absolutely NO sending us Google Drive links or zip files with data (see above).\n",
        "* Load packages throughout the notebook. Please load all packages in the first code cell in your notebook.\n",
        "* Add API keys or tokens directly to your notebook!!!! EVER!!!\n",
        "* Include cells that you used for testing or debugging. Delete these before submission\n",
        "* Have errors rendered in your notebook. Fix errors prior to submission."
      ]
    },
    {
      "cell_type": "code",
      "execution_count": null,
      "metadata": {
        "id": "86yKuovz_Ajp"
      },
      "outputs": [],
      "source": [
        "# Please use this to connect your GitHub repository to your Google Colab notebook\n",
        "# Connects to any needed files from GitHub and Google Drive\n",
        "import os\n",
        "\n",
        "# Remove Colab default sample_data\n",
        "!rm -r ./sample_data\n",
        "\n",
        "# Clone GitHub files to colab workspace\n",
        "repo_name = \"Duke-AI-XAI\" # Change to your repo name\n",
        "git_path = 'https://github.com/AIPI-590-XAI/Duke-AI-XAI.git' #Change to your path\n",
        "!git clone \"{git_path}\"\n",
        "\n",
        "# Install dependencies from requirements.txt file\n",
        "#!pip install -r \"{os.path.join(repo_name,'requirements.txt')}\" #Add if using requirements.txt\n",
        "\n",
        "# Change working directory to location of notebook\n",
        "notebook_dir = 'templates'\n",
        "path_to_notebook = os.path.join(repo_name,notebook_dir)\n",
        "%cd \"{path_to_notebook}\"\n",
        "%ls"
      ]
    },
    {
      "cell_type": "markdown",
      "metadata": {
        "id": "Ku_YCVL8_Ajq"
      },
      "source": [
        "#### Using environment variables in Google Colab\n",
        "\n",
        "In Google Colab, locate the key button on the left side of the screen. You can enter in any environment variables or API keys here and they will remain private.\n",
        "\n",
        "Then add the environment variables to your notebook using the code below.\n",
        "\n",
        "Make sure to document in your notebook if you are using API keys and how to get them (ie share a link for documentation to get a Hugging Face API Key if you are using Hugging Face)"
      ]
    },
    {
      "cell_type": "code",
      "execution_count": null,
      "metadata": {
        "id": "AcM0lGnH_Ajq"
      },
      "outputs": [],
      "source": [
        "from google.colab import userdata\n",
        "userdata.get('secretName')"
      ]
    }
  ],
  "metadata": {
    "language_info": {
      "name": "python"
    },
    "colab": {
      "provenance": [],
      "include_colab_link": true
    }
  },
  "nbformat": 4,
  "nbformat_minor": 0
}